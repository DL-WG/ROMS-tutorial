{
  "nbformat": 4,
  "nbformat_minor": 0,
  "metadata": {
    "colab": {
      "name": "MNIST_AE.ipynb",
      "provenance": [],
      "collapsed_sections": [],
      "authorship_tag": "ABX9TyMnIV/Sj5hci8E5NIWLPmmm",
      "include_colab_link": true
    },
    "kernelspec": {
      "name": "python3",
      "display_name": "Python 3"
    }
  },
  "cells": [
    {
      "cell_type": "markdown",
      "metadata": {
        "id": "view-in-github",
        "colab_type": "text"
      },
      "source": [
        "<a href=\"https://colab.research.google.com/github/DL-WG/ROMS-tutorial/blob/main/MNIST_AE.ipynb\" target=\"_parent\"><img src=\"https://colab.research.google.com/assets/colab-badge.svg\" alt=\"Open In Colab\"/></a>"
      ]
    },
    {
      "cell_type": "markdown",
      "metadata": {
        "id": "tFO-L5dJ_BSS"
      },
      "source": [
        "MNIST with a fully-connected autoencoder: example\n",
        "Thursday 4th March 2021"
      ]
    },
    {
      "cell_type": "code",
      "metadata": {
        "id": "xnscCVMF-7yA",
        "colab": {
          "base_uri": "https://localhost:8080/"
        },
        "outputId": "839b7054-f8e1-4f02-b765-4c8dcdd61601"
      },
      "source": [
        "import tensorflow.keras as tf\n",
        "from keras.datasets.mnist import load_data\n",
        "import matplotlib.pyplot as plt\n",
        "!pip install eofs\n",
        "import eofs\n",
        "from eofs.standard import Eof\n",
        "import numpy as np"
      ],
      "execution_count": 2,
      "outputs": [
        {
          "output_type": "stream",
          "text": [
            "Collecting eofs\n",
            "\u001b[?25l  Downloading https://files.pythonhosted.org/packages/a6/7a/90efd4238918d97c8f5870e514caa684b942870c14a65952ad7c88a9bcc5/eofs-1.4.0.tar.gz (1.0MB)\n",
            "\r\u001b[K     |▎                               | 10kB 16.3MB/s eta 0:00:01\r\u001b[K     |▋                               | 20kB 11.5MB/s eta 0:00:01\r\u001b[K     |█                               | 30kB 8.4MB/s eta 0:00:01\r\u001b[K     |█▎                              | 40kB 7.3MB/s eta 0:00:01\r\u001b[K     |█▋                              | 51kB 4.3MB/s eta 0:00:01\r\u001b[K     |██                              | 61kB 4.8MB/s eta 0:00:01\r\u001b[K     |██▎                             | 71kB 5.0MB/s eta 0:00:01\r\u001b[K     |██▌                             | 81kB 5.2MB/s eta 0:00:01\r\u001b[K     |██▉                             | 92kB 5.0MB/s eta 0:00:01\r\u001b[K     |███▏                            | 102kB 5.5MB/s eta 0:00:01\r\u001b[K     |███▌                            | 112kB 5.5MB/s eta 0:00:01\r\u001b[K     |███▉                            | 122kB 5.5MB/s eta 0:00:01\r\u001b[K     |████▏                           | 133kB 5.5MB/s eta 0:00:01\r\u001b[K     |████▌                           | 143kB 5.5MB/s eta 0:00:01\r\u001b[K     |████▊                           | 153kB 5.5MB/s eta 0:00:01\r\u001b[K     |█████                           | 163kB 5.5MB/s eta 0:00:01\r\u001b[K     |█████▍                          | 174kB 5.5MB/s eta 0:00:01\r\u001b[K     |█████▊                          | 184kB 5.5MB/s eta 0:00:01\r\u001b[K     |██████                          | 194kB 5.5MB/s eta 0:00:01\r\u001b[K     |██████▍                         | 204kB 5.5MB/s eta 0:00:01\r\u001b[K     |██████▊                         | 215kB 5.5MB/s eta 0:00:01\r\u001b[K     |███████                         | 225kB 5.5MB/s eta 0:00:01\r\u001b[K     |███████▎                        | 235kB 5.5MB/s eta 0:00:01\r\u001b[K     |███████▋                        | 245kB 5.5MB/s eta 0:00:01\r\u001b[K     |████████                        | 256kB 5.5MB/s eta 0:00:01\r\u001b[K     |████████▎                       | 266kB 5.5MB/s eta 0:00:01\r\u001b[K     |████████▋                       | 276kB 5.5MB/s eta 0:00:01\r\u001b[K     |█████████                       | 286kB 5.5MB/s eta 0:00:01\r\u001b[K     |█████████▎                      | 296kB 5.5MB/s eta 0:00:01\r\u001b[K     |█████████▌                      | 307kB 5.5MB/s eta 0:00:01\r\u001b[K     |█████████▉                      | 317kB 5.5MB/s eta 0:00:01\r\u001b[K     |██████████▏                     | 327kB 5.5MB/s eta 0:00:01\r\u001b[K     |██████████▌                     | 337kB 5.5MB/s eta 0:00:01\r\u001b[K     |██████████▉                     | 348kB 5.5MB/s eta 0:00:01\r\u001b[K     |███████████▏                    | 358kB 5.5MB/s eta 0:00:01\r\u001b[K     |███████████▌                    | 368kB 5.5MB/s eta 0:00:01\r\u001b[K     |███████████▊                    | 378kB 5.5MB/s eta 0:00:01\r\u001b[K     |████████████                    | 389kB 5.5MB/s eta 0:00:01\r\u001b[K     |████████████▍                   | 399kB 5.5MB/s eta 0:00:01\r\u001b[K     |████████████▊                   | 409kB 5.5MB/s eta 0:00:01\r\u001b[K     |█████████████                   | 419kB 5.5MB/s eta 0:00:01\r\u001b[K     |█████████████▍                  | 430kB 5.5MB/s eta 0:00:01\r\u001b[K     |█████████████▊                  | 440kB 5.5MB/s eta 0:00:01\r\u001b[K     |██████████████                  | 450kB 5.5MB/s eta 0:00:01\r\u001b[K     |██████████████▎                 | 460kB 5.5MB/s eta 0:00:01\r\u001b[K     |██████████████▋                 | 471kB 5.5MB/s eta 0:00:01\r\u001b[K     |███████████████                 | 481kB 5.5MB/s eta 0:00:01\r\u001b[K     |███████████████▎                | 491kB 5.5MB/s eta 0:00:01\r\u001b[K     |███████████████▋                | 501kB 5.5MB/s eta 0:00:01\r\u001b[K     |████████████████                | 512kB 5.5MB/s eta 0:00:01\r\u001b[K     |████████████████▎               | 522kB 5.5MB/s eta 0:00:01\r\u001b[K     |████████████████▌               | 532kB 5.5MB/s eta 0:00:01\r\u001b[K     |████████████████▉               | 542kB 5.5MB/s eta 0:00:01\r\u001b[K     |█████████████████▏              | 552kB 5.5MB/s eta 0:00:01\r\u001b[K     |█████████████████▌              | 563kB 5.5MB/s eta 0:00:01\r\u001b[K     |█████████████████▉              | 573kB 5.5MB/s eta 0:00:01\r\u001b[K     |██████████████████▏             | 583kB 5.5MB/s eta 0:00:01\r\u001b[K     |██████████████████▌             | 593kB 5.5MB/s eta 0:00:01\r\u001b[K     |██████████████████▊             | 604kB 5.5MB/s eta 0:00:01\r\u001b[K     |███████████████████             | 614kB 5.5MB/s eta 0:00:01\r\u001b[K     |███████████████████▍            | 624kB 5.5MB/s eta 0:00:01\r\u001b[K     |███████████████████▊            | 634kB 5.5MB/s eta 0:00:01\r\u001b[K     |████████████████████            | 645kB 5.5MB/s eta 0:00:01\r\u001b[K     |████████████████████▍           | 655kB 5.5MB/s eta 0:00:01\r\u001b[K     |████████████████████▊           | 665kB 5.5MB/s eta 0:00:01\r\u001b[K     |█████████████████████           | 675kB 5.5MB/s eta 0:00:01\r\u001b[K     |█████████████████████▎          | 686kB 5.5MB/s eta 0:00:01\r\u001b[K     |█████████████████████▋          | 696kB 5.5MB/s eta 0:00:01\r\u001b[K     |██████████████████████          | 706kB 5.5MB/s eta 0:00:01\r\u001b[K     |██████████████████████▎         | 716kB 5.5MB/s eta 0:00:01\r\u001b[K     |██████████████████████▋         | 727kB 5.5MB/s eta 0:00:01\r\u001b[K     |███████████████████████         | 737kB 5.5MB/s eta 0:00:01\r\u001b[K     |███████████████████████▎        | 747kB 5.5MB/s eta 0:00:01\r\u001b[K     |███████████████████████▌        | 757kB 5.5MB/s eta 0:00:01\r\u001b[K     |███████████████████████▉        | 768kB 5.5MB/s eta 0:00:01\r\u001b[K     |████████████████████████▏       | 778kB 5.5MB/s eta 0:00:01\r\u001b[K     |████████████████████████▌       | 788kB 5.5MB/s eta 0:00:01\r\u001b[K     |████████████████████████▉       | 798kB 5.5MB/s eta 0:00:01\r\u001b[K     |█████████████████████████▏      | 808kB 5.5MB/s eta 0:00:01\r\u001b[K     |█████████████████████████▌      | 819kB 5.5MB/s eta 0:00:01\r\u001b[K     |█████████████████████████▊      | 829kB 5.5MB/s eta 0:00:01\r\u001b[K     |██████████████████████████      | 839kB 5.5MB/s eta 0:00:01\r\u001b[K     |██████████████████████████▍     | 849kB 5.5MB/s eta 0:00:01\r\u001b[K     |██████████████████████████▊     | 860kB 5.5MB/s eta 0:00:01\r\u001b[K     |███████████████████████████     | 870kB 5.5MB/s eta 0:00:01\r\u001b[K     |███████████████████████████▍    | 880kB 5.5MB/s eta 0:00:01\r\u001b[K     |███████████████████████████▊    | 890kB 5.5MB/s eta 0:00:01\r\u001b[K     |████████████████████████████    | 901kB 5.5MB/s eta 0:00:01\r\u001b[K     |████████████████████████████▎   | 911kB 5.5MB/s eta 0:00:01\r\u001b[K     |████████████████████████████▋   | 921kB 5.5MB/s eta 0:00:01\r\u001b[K     |█████████████████████████████   | 931kB 5.5MB/s eta 0:00:01\r\u001b[K     |█████████████████████████████▎  | 942kB 5.5MB/s eta 0:00:01\r\u001b[K     |█████████████████████████████▋  | 952kB 5.5MB/s eta 0:00:01\r\u001b[K     |██████████████████████████████  | 962kB 5.5MB/s eta 0:00:01\r\u001b[K     |██████████████████████████████▏ | 972kB 5.5MB/s eta 0:00:01\r\u001b[K     |██████████████████████████████▌ | 983kB 5.5MB/s eta 0:00:01\r\u001b[K     |██████████████████████████████▉ | 993kB 5.5MB/s eta 0:00:01\r\u001b[K     |███████████████████████████████▏| 1.0MB 5.5MB/s eta 0:00:01\r\u001b[K     |███████████████████████████████▌| 1.0MB 5.5MB/s eta 0:00:01\r\u001b[K     |███████████████████████████████▉| 1.0MB 5.5MB/s eta 0:00:01\r\u001b[K     |████████████████████████████████| 1.0MB 5.5MB/s \n",
            "\u001b[?25hRequirement already satisfied: numpy in /usr/local/lib/python3.7/dist-packages (from eofs) (1.19.5)\n",
            "Building wheels for collected packages: eofs\n",
            "  Building wheel for eofs (setup.py) ... \u001b[?25l\u001b[?25hdone\n",
            "  Created wheel for eofs: filename=eofs-1.4.0-cp37-none-any.whl size=1100357 sha256=b41bb6d20fa21f96574ea18a1ac2082e852f091f3bf293319d749e00367424d4\n",
            "  Stored in directory: /root/.cache/pip/wheels/47/f8/64/72dfdafae89c380846799c1396957cddd04decf459242ea988\n",
            "Successfully built eofs\n",
            "Installing collected packages: eofs\n",
            "Successfully installed eofs-1.4.0\n"
          ],
          "name": "stdout"
        }
      ]
    },
    {
      "cell_type": "code",
      "metadata": {
        "id": "deKH-TJlVv0o",
        "colab": {
          "base_uri": "https://localhost:8080/"
        },
        "outputId": "947ccdc2-73cf-4912-dca5-eb63f1a15b9a"
      },
      "source": [
        "#Load data\n",
        "(Xtrain, ytrain), (Xtest, ytest) = load_data()\n",
        "# summarize the shape of the dataset\n",
        "print('Train', Xtrain.shape, ytrain.shape)\n",
        "print('Test', Xtest.shape, ytest.shape)"
      ],
      "execution_count": 3,
      "outputs": [
        {
          "output_type": "stream",
          "text": [
            "Downloading data from https://storage.googleapis.com/tensorflow/tf-keras-datasets/mnist.npz\n",
            "11493376/11490434 [==============================] - 0s 0us/step\n",
            "Train (60000, 28, 28) (60000,)\n",
            "Test (10000, 28, 28) (10000,)\n"
          ],
          "name": "stdout"
        }
      ]
    },
    {
      "cell_type": "code",
      "metadata": {
        "id": "SukmrVPbVzoZ",
        "colab": {
          "base_uri": "https://localhost:8080/",
          "height": 248
        },
        "outputId": "15fcb6ef-930b-412e-b738-bc24ed571825"
      },
      "source": [
        "for i in range(36):\n",
        "  plt.subplot(6,6,i+1)\n",
        "  plt.imshow(Xtrain[np.random.randint(Xtrain.shape[0])], cmap='gray_r')\n",
        "  plt.axis('off')"
      ],
      "execution_count": 4,
      "outputs": [
        {
          "output_type": "display_data",
          "data": {
            "image/png": "[encoded data removed]",
            "text/plain": [
              "<Figure size 432x288 with 36 Axes>"
            ]
          },
          "metadata": {
            "tags": [],
            "needs_background": "light"
          }
        }
      ]
    },
    {
      "cell_type": "code",
      "metadata": {
        "id": "GhRbHTr3V2X3",
        "colab": {
          "base_uri": "https://localhost:8080/"
        },
        "outputId": "b8b78811-2145-46b4-f1bc-63e49641110d"
      },
      "source": [
        "#Gather model data\n",
        "modelDataTotal = np.concatenate((Xtrain, Xtest))\n",
        "modelData = np.reshape(modelDataTotal, (modelDataTotal.shape[0], modelDataTotal.shape[1]*modelDataTotal.shape[2]))\n",
        "modelData = modelData[::10, :]\n",
        "modelData.shape"
      ],
      "execution_count": 5,
      "outputs": [
        {
          "output_type": "execute_result",
          "data": {
            "text/plain": [
              "(7000, 784)"
            ]
          },
          "metadata": {
            "tags": []
          },
          "execution_count": 5
        }
      ]
    },
    {
      "cell_type": "code",
      "metadata": {
        "id": "0h1Oqj5tV_DB",
        "colab": {
          "base_uri": "https://localhost:8080/"
        },
        "outputId": "31f5af24-795d-4463-c03b-3c4088e90932"
      },
      "source": [
        "#Scale data between 0 and 1\n",
        "modelDataScaled = modelData/255.0\n",
        "nSnapshots = modelData.shape[0]\n",
        "nFeatures = modelData.shape[1]\n",
        "print(np.max(modelDataScaled))\n",
        "print('Number of snapshots: ' + str(nSnapshots))\n",
        "print('Number of features: ' + str(nFeatures))"
      ],
      "execution_count": 6,
      "outputs": [
        {
          "output_type": "stream",
          "text": [
            "1.0\n",
            "Number of snapshots: 7000\n",
            "Number of features: 784\n"
          ],
          "name": "stdout"
        }
      ]
    },
    {
      "cell_type": "code",
      "metadata": {
        "id": "1_NKUsVj9J_6"
      },
      "source": [
        "#Get training and test data\n",
        "\n",
        "from sklearn.model_selection import train_test_split\n",
        "X_train, X_test, y_train, y_test = train_test_split(modelDataScaled, modelDataScaled, test_size=0.1, shuffle=True, random_state=42)\n",
        "\n",
        "#X_train = np.expand_dims(X_train)\n",
        "#X_test = np.expand_dims(X_test)"
      ],
      "execution_count": 7,
      "outputs": []
    },
    {
      "cell_type": "code",
      "metadata": {
        "id": "Re6WGkxwXToB",
        "colab": {
          "base_uri": "https://localhost:8080/"
        },
        "outputId": "7aedb340-a868-4985-dd59-9cc379bb0931"
      },
      "source": [
        "#Define model\n",
        "input_enc = tf.Input(shape=(nFeatures))\n",
        "enc = tf.layers.Dense(128)(input_enc)\n",
        "enc = tf.layers.Dense(64)(enc)\n",
        "\n",
        "enc_output = tf.layers.Reshape((1, 64))(enc)\n",
        "\n",
        "input_dec = tf.Input(shape=(1, 64))\n",
        "dec = tf.layers.Dense(128)(input_dec)\n",
        "dec = tf.layers.Dense(nFeatures, activation='sigmoid')(dec)\n",
        "\n",
        "#Encoder model\n",
        "enc_model = tf.Model(input_enc, enc_output)\n",
        "enc_model.summary()\n",
        "#Decoder model\n",
        "dec_model = tf.Model(input_dec, dec)\n",
        "dec_model.summary()\n",
        "#ae model\n",
        "ae_model = tf.Model(input_enc, dec_model(enc_output))\n",
        "\n",
        "ae_model.compile(loss='mse', optimizer='adam')"
      ],
      "execution_count": 9,
      "outputs": [
        {
          "output_type": "stream",
          "text": [
            "Model: \"model\"\n",
            "_________________________________________________________________\n",
            "Layer (type)                 Output Shape              Param #   \n",
            "=================================================================\n",
            "input_1 (InputLayer)         [(None, 784)]             0         \n",
            "_________________________________________________________________\n",
            "dense (Dense)                (None, 128)               100480    \n",
            "_________________________________________________________________\n",
            "dense_1 (Dense)              (None, 64)                8256      \n",
            "_________________________________________________________________\n",
            "reshape (Reshape)            (None, 1, 64)             0         \n",
            "=================================================================\n",
            "Total params: 108,736\n",
            "Trainable params: 108,736\n",
            "Non-trainable params: 0\n",
            "_________________________________________________________________\n",
            "Model: \"model_1\"\n",
            "_________________________________________________________________\n",
            "Layer (type)                 Output Shape              Param #   \n",
            "=================================================================\n",
            "input_2 (InputLayer)         [(None, 1, 64)]           0         \n",
            "_________________________________________________________________\n",
            "dense_2 (Dense)              (None, 1, 128)            8320      \n",
            "_________________________________________________________________\n",
            "dense_3 (Dense)              (None, 1, 784)            101136    \n",
            "=================================================================\n",
            "Total params: 109,456\n",
            "Trainable params: 109,456\n",
            "Non-trainable params: 0\n",
            "_________________________________________________________________\n"
          ],
          "name": "stdout"
        }
      ]
    },
    {
      "cell_type": "code",
      "metadata": {
        "id": "op6Mv1EaXVsT",
        "colab": {
          "base_uri": "https://localhost:8080/"
        },
        "outputId": "48bb1801-c57f-4d70-c148-421135018e11"
      },
      "source": [
        "history = ae_model.fit(X_train, y_train, epochs=100, batch_size=512, verbose=2, validation_data = (X_test, y_test), shuffle = True)\n"
      ],
      "execution_count": 10,
      "outputs": [
        {
          "output_type": "stream",
          "text": [
            "Epoch 1/100\n",
            "13/13 - 14s - loss: 0.1537 - val_loss: 0.0731\n",
            "Epoch 2/100\n",
            "13/13 - 12s - loss: 0.0719 - val_loss: 0.0677\n",
            "Epoch 3/100\n",
            "13/13 - 12s - loss: 0.0689 - val_loss: 0.0661\n",
            "Epoch 4/100\n",
            "13/13 - 12s - loss: 0.0677 - val_loss: 0.0655\n",
            "Epoch 5/100\n",
            "13/13 - 12s - loss: 0.0670 - val_loss: 0.0650\n",
            "Epoch 6/100\n",
            "13/13 - 12s - loss: 0.0666 - val_loss: 0.0647\n",
            "Epoch 7/100\n",
            "13/13 - 12s - loss: 0.0664 - val_loss: 0.0645\n",
            "Epoch 8/100\n",
            "13/13 - 12s - loss: 0.0662 - val_loss: 0.0644\n",
            "Epoch 9/100\n",
            "13/13 - 12s - loss: 0.0661 - val_loss: 0.0645\n",
            "Epoch 10/100\n",
            "13/13 - 12s - loss: 0.0660 - val_loss: 0.0643\n",
            "Epoch 11/100\n",
            "13/13 - 12s - loss: 0.0660 - val_loss: 0.0643\n",
            "Epoch 12/100\n",
            "13/13 - 12s - loss: 0.0659 - val_loss: 0.0642\n",
            "Epoch 13/100\n",
            "13/13 - 12s - loss: 0.0659 - val_loss: 0.0642\n",
            "Epoch 14/100\n",
            "13/13 - 12s - loss: 0.0658 - val_loss: 0.0642\n",
            "Epoch 15/100\n",
            "13/13 - 12s - loss: 0.0658 - val_loss: 0.0643\n",
            "Epoch 16/100\n",
            "13/13 - 12s - loss: 0.0658 - val_loss: 0.0642\n",
            "Epoch 17/100\n",
            "13/13 - 12s - loss: 0.0657 - val_loss: 0.0641\n",
            "Epoch 18/100\n",
            "13/13 - 12s - loss: 0.0657 - val_loss: 0.0640\n",
            "Epoch 19/100\n",
            "13/13 - 12s - loss: 0.0657 - val_loss: 0.0642\n",
            "Epoch 20/100\n",
            "13/13 - 12s - loss: 0.0657 - val_loss: 0.0641\n",
            "Epoch 21/100\n",
            "13/13 - 12s - loss: 0.0656 - val_loss: 0.0640\n",
            "Epoch 22/100\n",
            "13/13 - 12s - loss: 0.0656 - val_loss: 0.0640\n",
            "Epoch 23/100\n",
            "13/13 - 12s - loss: 0.0656 - val_loss: 0.0639\n",
            "Epoch 24/100\n",
            "13/13 - 12s - loss: 0.0655 - val_loss: 0.0640\n",
            "Epoch 25/100\n",
            "13/13 - 12s - loss: 0.0655 - val_loss: 0.0640\n",
            "Epoch 26/100\n",
            "13/13 - 12s - loss: 0.0655 - val_loss: 0.0639\n",
            "Epoch 27/100\n",
            "13/13 - 16s - loss: 0.0655 - val_loss: 0.0638\n",
            "Epoch 28/100\n",
            "13/13 - 18s - loss: 0.0654 - val_loss: 0.0638\n",
            "Epoch 29/100\n",
            "13/13 - 12s - loss: 0.0654 - val_loss: 0.0644\n",
            "Epoch 30/100\n",
            "13/13 - 12s - loss: 0.0654 - val_loss: 0.0638\n",
            "Epoch 31/100\n",
            "13/13 - 12s - loss: 0.0653 - val_loss: 0.0637\n",
            "Epoch 32/100\n",
            "13/13 - 12s - loss: 0.0653 - val_loss: 0.0637\n",
            "Epoch 33/100\n",
            "13/13 - 12s - loss: 0.0654 - val_loss: 0.0637\n",
            "Epoch 34/100\n",
            "13/13 - 12s - loss: 0.0653 - val_loss: 0.0636\n",
            "Epoch 35/100\n",
            "13/13 - 12s - loss: 0.0653 - val_loss: 0.0636\n",
            "Epoch 36/100\n",
            "13/13 - 12s - loss: 0.0653 - val_loss: 0.0636\n",
            "Epoch 37/100\n",
            "13/13 - 13s - loss: 0.0653 - val_loss: 0.0636\n",
            "Epoch 38/100\n",
            "13/13 - 13s - loss: 0.0652 - val_loss: 0.0638\n",
            "Epoch 39/100\n",
            "13/13 - 12s - loss: 0.0653 - val_loss: 0.0639\n",
            "Epoch 40/100\n",
            "13/13 - 13s - loss: 0.0653 - val_loss: 0.0642\n",
            "Epoch 41/100\n",
            "13/13 - 12s - loss: 0.0653 - val_loss: 0.0636\n",
            "Epoch 42/100\n",
            "13/13 - 12s - loss: 0.0652 - val_loss: 0.0636\n",
            "Epoch 43/100\n",
            "13/13 - 12s - loss: 0.0652 - val_loss: 0.0635\n",
            "Epoch 44/100\n",
            "13/13 - 12s - loss: 0.0652 - val_loss: 0.0635\n",
            "Epoch 45/100\n",
            "13/13 - 12s - loss: 0.0652 - val_loss: 0.0636\n",
            "Epoch 46/100\n",
            "13/13 - 12s - loss: 0.0651 - val_loss: 0.0638\n",
            "Epoch 47/100\n",
            "13/13 - 12s - loss: 0.0652 - val_loss: 0.0636\n",
            "Epoch 48/100\n",
            "13/13 - 12s - loss: 0.0653 - val_loss: 0.0639\n",
            "Epoch 49/100\n",
            "13/13 - 12s - loss: 0.0652 - val_loss: 0.0636\n",
            "Epoch 50/100\n",
            "13/13 - 12s - loss: 0.0651 - val_loss: 0.0635\n",
            "Epoch 51/100\n",
            "13/13 - 12s - loss: 0.0652 - val_loss: 0.0635\n",
            "Epoch 52/100\n",
            "13/13 - 12s - loss: 0.0652 - val_loss: 0.0636\n",
            "Epoch 53/100\n",
            "13/13 - 12s - loss: 0.0651 - val_loss: 0.0635\n",
            "Epoch 54/100\n",
            "13/13 - 12s - loss: 0.0651 - val_loss: 0.0635\n",
            "Epoch 55/100\n",
            "13/13 - 12s - loss: 0.0651 - val_loss: 0.0635\n",
            "Epoch 56/100\n",
            "13/13 - 12s - loss: 0.0651 - val_loss: 0.0638\n",
            "Epoch 57/100\n",
            "13/13 - 12s - loss: 0.0652 - val_loss: 0.0636\n",
            "Epoch 58/100\n",
            "13/13 - 12s - loss: 0.0651 - val_loss: 0.0638\n",
            "Epoch 59/100\n",
            "13/13 - 12s - loss: 0.0652 - val_loss: 0.0635\n",
            "Epoch 60/100\n",
            "13/13 - 12s - loss: 0.0652 - val_loss: 0.0635\n",
            "Epoch 61/100\n",
            "13/13 - 12s - loss: 0.0652 - val_loss: 0.0635\n",
            "Epoch 62/100\n",
            "13/13 - 12s - loss: 0.0651 - val_loss: 0.0634\n",
            "Epoch 63/100\n",
            "13/13 - 12s - loss: 0.0651 - val_loss: 0.0635\n",
            "Epoch 64/100\n",
            "13/13 - 12s - loss: 0.0651 - val_loss: 0.0635\n",
            "Epoch 65/100\n",
            "13/13 - 13s - loss: 0.0651 - val_loss: 0.0636\n",
            "Epoch 66/100\n",
            "13/13 - 12s - loss: 0.0651 - val_loss: 0.0636\n",
            "Epoch 67/100\n",
            "13/13 - 12s - loss: 0.0651 - val_loss: 0.0635\n",
            "Epoch 68/100\n",
            "13/13 - 12s - loss: 0.0651 - val_loss: 0.0634\n",
            "Epoch 69/100\n",
            "13/13 - 12s - loss: 0.0651 - val_loss: 0.0635\n",
            "Epoch 70/100\n",
            "13/13 - 12s - loss: 0.0652 - val_loss: 0.0634\n",
            "Epoch 71/100\n",
            "13/13 - 12s - loss: 0.0651 - val_loss: 0.0635\n",
            "Epoch 72/100\n",
            "13/13 - 12s - loss: 0.0652 - val_loss: 0.0635\n",
            "Epoch 73/100\n",
            "13/13 - 12s - loss: 0.0651 - val_loss: 0.0634\n",
            "Epoch 74/100\n",
            "13/13 - 12s - loss: 0.0651 - val_loss: 0.0636\n",
            "Epoch 75/100\n",
            "13/13 - 12s - loss: 0.0651 - val_loss: 0.0637\n",
            "Epoch 76/100\n",
            "13/13 - 12s - loss: 0.0651 - val_loss: 0.0636\n",
            "Epoch 77/100\n",
            "13/13 - 12s - loss: 0.0651 - val_loss: 0.0635\n",
            "Epoch 78/100\n",
            "13/13 - 12s - loss: 0.0651 - val_loss: 0.0635\n",
            "Epoch 79/100\n",
            "13/13 - 12s - loss: 0.0652 - val_loss: 0.0635\n",
            "Epoch 80/100\n",
            "13/13 - 12s - loss: 0.0652 - val_loss: 0.0635\n",
            "Epoch 81/100\n",
            "13/13 - 12s - loss: 0.0651 - val_loss: 0.0634\n",
            "Epoch 82/100\n",
            "13/13 - 12s - loss: 0.0651 - val_loss: 0.0635\n",
            "Epoch 83/100\n",
            "13/13 - 12s - loss: 0.0651 - val_loss: 0.0634\n",
            "Epoch 84/100\n",
            "13/13 - 12s - loss: 0.0651 - val_loss: 0.0634\n",
            "Epoch 85/100\n",
            "13/13 - 12s - loss: 0.0651 - val_loss: 0.0634\n",
            "Epoch 86/100\n",
            "13/13 - 12s - loss: 0.0651 - val_loss: 0.0634\n",
            "Epoch 87/100\n",
            "13/13 - 12s - loss: 0.0651 - val_loss: 0.0634\n",
            "Epoch 88/100\n",
            "13/13 - 12s - loss: 0.0651 - val_loss: 0.0635\n",
            "Epoch 89/100\n",
            "13/13 - 12s - loss: 0.0651 - val_loss: 0.0634\n",
            "Epoch 90/100\n",
            "13/13 - 13s - loss: 0.0651 - val_loss: 0.0635\n",
            "Epoch 91/100\n",
            "13/13 - 12s - loss: 0.0651 - val_loss: 0.0636\n",
            "Epoch 92/100\n",
            "13/13 - 12s - loss: 0.0651 - val_loss: 0.0635\n",
            "Epoch 93/100\n",
            "13/13 - 12s - loss: 0.0651 - val_loss: 0.0634\n",
            "Epoch 94/100\n",
            "13/13 - 12s - loss: 0.0651 - val_loss: 0.0634\n",
            "Epoch 95/100\n",
            "13/13 - 12s - loss: 0.0651 - val_loss: 0.0637\n",
            "Epoch 96/100\n",
            "13/13 - 12s - loss: 0.0652 - val_loss: 0.0635\n",
            "Epoch 97/100\n",
            "13/13 - 12s - loss: 0.0651 - val_loss: 0.0635\n",
            "Epoch 98/100\n",
            "13/13 - 12s - loss: 0.0651 - val_loss: 0.0636\n",
            "Epoch 99/100\n",
            "13/13 - 12s - loss: 0.0651 - val_loss: 0.0634\n",
            "Epoch 100/100\n",
            "13/13 - 12s - loss: 0.0651 - val_loss: 0.0635\n"
          ],
          "name": "stdout"
        }
      ]
    },
    {
      "cell_type": "code",
      "metadata": {
        "id": "o1IMniguAksn",
        "colab": {
          "base_uri": "https://localhost:8080/",
          "height": 282
        },
        "outputId": "851e2919-5c0c-4666-ed9a-2369c21a8524"
      },
      "source": [
        "plt.plot(history.history['loss'])\n",
        "plt.plot(history.history['val_loss'])\n",
        "plt.legend(['Loss', 'Val_loss'])"
      ],
      "execution_count": 11,
      "outputs": [
        {
          "output_type": "execute_result",
          "data": {
            "text/plain": [
              "<matplotlib.legend.Legend at 0x7efc1b0362d0>"
            ]
          },
          "metadata": {
            "tags": []
          },
          "execution_count": 11
        },
        {
          "output_type": "display_data",
          "data": {
            "image/png": "[encoded data removed]",
            "text/plain": [
              "<Figure size 432x288 with 1 Axes>"
            ]
          },
          "metadata": {
            "tags": [],
            "needs_background": "light"
          }
        }
      ]
    },
    {
      "cell_type": "code",
      "metadata": {
        "id": "sjnme4FVVQYk"
      },
      "source": [
        ""
      ],
      "execution_count": null,
      "outputs": []
    }
  ]
}